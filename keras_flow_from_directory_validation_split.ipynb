{
 "cells": [
  {
   "cell_type": "markdown",
   "metadata": {},
   "source": [
    "## Import libraries"
   ]
  },
  {
   "cell_type": "code",
   "execution_count": 1,
   "metadata": {},
   "outputs": [
    {
     "name": "stderr",
     "output_type": "stream",
     "text": [
      "Using TensorFlow backend.\n"
     ]
    }
   ],
   "source": [
    "import numpy as np\n",
    "import itertools\n",
    "from sklearn.metrics import classification_report, confusion_matrix\n",
    "from keras.models import Model, load_model\n",
    "from keras.layers import Flatten, Dense, Lambda\n",
    "\n",
    "from keras.applications.inception_v3 import InceptionV3\n",
    "from keras.optimizers import Adam\n",
    "from keras.preprocessing import image"
   ]
  },
  {
   "cell_type": "markdown",
   "metadata": {},
   "source": [
    "## Set variables and import data"
   ]
  },
  {
   "cell_type": "code",
   "execution_count": 2,
   "metadata": {},
   "outputs": [],
   "source": [
    "gen = image.ImageDataGenerator(validation_split=0.2)\n",
    "batch_size = 64"
   ]
  },
  {
   "cell_type": "code",
   "execution_count": 3,
   "metadata": {},
   "outputs": [
    {
     "name": "stdout",
     "output_type": "stream",
     "text": [
      "Found 6654 images belonging to 7 classes.\n"
     ]
    }
   ],
   "source": [
    "batches = gen.flow_from_directory('../ISIC/ISIC_2018/data_raw/train',\n",
    "                                  target_size=(299,299),\n",
    "                                  class_mode='categorical',\n",
    "                                  shuffle=True,\n",
    "                                  batch_size=batch_size,\n",
    "                                  subset='training')"
   ]
  },
  {
   "cell_type": "code",
   "execution_count": 4,
   "metadata": {},
   "outputs": [
    {
     "name": "stdout",
     "output_type": "stream",
     "text": [
      "Found 1660 images belonging to 7 classes.\n"
     ]
    }
   ],
   "source": [
    "val_batches = gen.flow_from_directory('../ISIC/ISIC_2018/data_raw/train',\n",
    "                                  target_size=(299,299),\n",
    "                                  class_mode='categorical',\n",
    "                                  shuffle=True,\n",
    "                                  batch_size=batch_size,\n",
    "                                  subset='validation')"
   ]
  },
  {
   "cell_type": "markdown",
   "metadata": {},
   "source": [
    "## Import, configure, and compile model"
   ]
  },
  {
   "cell_type": "code",
   "execution_count": 5,
   "metadata": {},
   "outputs": [],
   "source": [
    "inception = InceptionV3(include_top=True, weights='imagenet', input_tensor=None, input_shape=(299,299,3), pooling=None)\n",
    "\n",
    "x = inception.layers[-2].output\n",
    "output_layer = Dense(7, activation='softmax', name='predictions')(x)\n",
    "\n",
    "inception2 = Model(inputs=inception.input, outputs=output_layer)\n",
    "\n",
    "inception2.compile(optimizer=Adam(lr=0.00003),\n",
    "                loss='categorical_crossentropy', metrics=['accuracy'])"
   ]
  },
  {
   "cell_type": "markdown",
   "metadata": {},
   "source": [
    "## Train model"
   ]
  },
  {
   "cell_type": "code",
   "execution_count": 6,
   "metadata": {},
   "outputs": [
    {
     "name": "stdout",
     "output_type": "stream",
     "text": [
      "Epoch 1/1\n",
      "103/103 [==============================] - 79s 763ms/step - loss: 1.1129 - acc: 0.6203 - val_loss: 0.7119 - val_acc: 0.7428\n"
     ]
    },
    {
     "data": {
      "text/plain": [
       "<keras.callbacks.History at 0x7fe647a4bd68>"
      ]
     },
     "execution_count": 6,
     "metadata": {},
     "output_type": "execute_result"
    }
   ],
   "source": [
    "inception2.fit_generator(batches,\n",
    "                   steps_per_epoch = batches.samples // batch_size,\n",
    "                   validation_data = val_batches, \n",
    "                   validation_steps = val_batches.samples // batch_size,\n",
    "                   epochs = 1)"
   ]
  },
  {
   "cell_type": "code",
   "execution_count": null,
   "metadata": {},
   "outputs": [],
   "source": []
  },
  {
   "cell_type": "code",
   "execution_count": null,
   "metadata": {},
   "outputs": [],
   "source": []
  },
  {
   "cell_type": "code",
   "execution_count": null,
   "metadata": {},
   "outputs": [],
   "source": []
  }
 ],
 "metadata": {
  "kernelspec": {
   "display_name": "Python 3",
   "language": "python",
   "name": "python3"
  },
  "language_info": {
   "codemirror_mode": {
    "name": "ipython",
    "version": 3
   },
   "file_extension": ".py",
   "mimetype": "text/x-python",
   "name": "python",
   "nbconvert_exporter": "python",
   "pygments_lexer": "ipython3",
   "version": "3.6.2"
  }
 },
 "nbformat": 4,
 "nbformat_minor": 2
}
